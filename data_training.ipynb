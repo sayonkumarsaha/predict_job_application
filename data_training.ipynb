{
 "cells": [
  {
   "cell_type": "code",
   "execution_count": 45,
   "metadata": {},
   "outputs": [],
   "source": [
    "from src.preprocessing_data import DataPreprocessing\n",
    "from src.util_training_evaluation import TrainingEvaluation\n",
    "\n",
    "from sklearn.impute import SimpleImputer, KNNImputer\n",
    "from sklearn.preprocessing import StandardScaler\n",
    "from sklearn.model_selection import train_test_split, RandomizedSearchCV\n",
    "from sklearn.linear_model import LogisticRegression\n",
    "from sklearn.svm import SVC\n",
    "from sklearn.neighbors import KNeighborsClassifier\n",
    "from sklearn.ensemble import RandomForestClassifier, AdaBoostClassifier, ExtraTreesClassifier\n",
    "from sklearn.naive_bayes import GaussianNB\n",
    "from sklearn.neural_network import MLPClassifier\n",
    "from sklearn.metrics import accuracy_score, precision_score, recall_score, f1_score, roc_auc_score\n",
    "from sklearn.preprocessing import MultiLabelBinarizer\n",
    "\n",
    "import lightgbm as lgb\n",
    "import numpy as np\n",
    "import pandas as pd\n",
    "\n",
    "import warnings\n",
    "warnings.filterwarnings('ignore')"
   ]
  },
  {
   "cell_type": "markdown",
   "metadata": {},
   "source": [
    "### Pre-processing Training Data"
   ]
  },
  {
   "cell_type": "code",
   "execution_count": 46,
   "metadata": {},
   "outputs": [
    {
     "data": {
      "text/html": [
       "<div>\n",
       "<style scoped>\n",
       "    .dataframe tbody tr th:only-of-type {\n",
       "        vertical-align: middle;\n",
       "    }\n",
       "\n",
       "    .dataframe tbody tr th {\n",
       "        vertical-align: top;\n",
       "    }\n",
       "\n",
       "    .dataframe thead th {\n",
       "        text-align: right;\n",
       "    }\n",
       "</style>\n",
       "<table border=\"1\" class=\"dataframe\">\n",
       "  <thead>\n",
       "    <tr style=\"text-align: right;\">\n",
       "      <th></th>\n",
       "      <th>has_applied</th>\n",
       "      <th>salary</th>\n",
       "      <th>v1</th>\n",
       "      <th>v10</th>\n",
       "      <th>v11</th>\n",
       "      <th>v12</th>\n",
       "      <th>v13</th>\n",
       "      <th>v14</th>\n",
       "      <th>v15</th>\n",
       "      <th>v16</th>\n",
       "      <th>...</th>\n",
       "      <th>jobtitle_keyword_senior</th>\n",
       "      <th>jobtitle_keyword_seo</th>\n",
       "      <th>jobtitle_keyword_shop</th>\n",
       "      <th>jobtitle_keyword_software</th>\n",
       "      <th>jobtitle_keyword_supplier</th>\n",
       "      <th>jobtitle_keyword_sustainability</th>\n",
       "      <th>jobtitle_keyword_transformation</th>\n",
       "      <th>jobtitle_keyword_ui</th>\n",
       "      <th>jobtitle_keyword_ux</th>\n",
       "      <th>jobtitle_keyword_ventures</th>\n",
       "    </tr>\n",
       "  </thead>\n",
       "  <tbody>\n",
       "    <tr>\n",
       "      <th>0</th>\n",
       "      <td>1</td>\n",
       "      <td>51000.0</td>\n",
       "      <td>0.620573</td>\n",
       "      <td>0.018662</td>\n",
       "      <td>0.100803</td>\n",
       "      <td>0.080898</td>\n",
       "      <td>0.420417</td>\n",
       "      <td>0.817681</td>\n",
       "      <td>0.147355</td>\n",
       "      <td>0.446812</td>\n",
       "      <td>...</td>\n",
       "      <td>0.0</td>\n",
       "      <td>0.0</td>\n",
       "      <td>0.0</td>\n",
       "      <td>0.0</td>\n",
       "      <td>0.0</td>\n",
       "      <td>0.0</td>\n",
       "      <td>0.0</td>\n",
       "      <td>0.0</td>\n",
       "      <td>0.0</td>\n",
       "      <td>0.0</td>\n",
       "    </tr>\n",
       "    <tr>\n",
       "      <th>1</th>\n",
       "      <td>1</td>\n",
       "      <td>70000.0</td>\n",
       "      <td>0.972502</td>\n",
       "      <td>0.870277</td>\n",
       "      <td>0.504887</td>\n",
       "      <td>0.995163</td>\n",
       "      <td>0.179480</td>\n",
       "      <td>0.608719</td>\n",
       "      <td>0.245085</td>\n",
       "      <td>0.851246</td>\n",
       "      <td>...</td>\n",
       "      <td>0.0</td>\n",
       "      <td>0.0</td>\n",
       "      <td>0.0</td>\n",
       "      <td>0.0</td>\n",
       "      <td>0.0</td>\n",
       "      <td>0.0</td>\n",
       "      <td>0.0</td>\n",
       "      <td>0.0</td>\n",
       "      <td>0.0</td>\n",
       "      <td>0.0</td>\n",
       "    </tr>\n",
       "    <tr>\n",
       "      <th>2</th>\n",
       "      <td>1</td>\n",
       "      <td>59000.0</td>\n",
       "      <td>0.240756</td>\n",
       "      <td>0.546440</td>\n",
       "      <td>0.521399</td>\n",
       "      <td>0.402420</td>\n",
       "      <td>0.640444</td>\n",
       "      <td>0.400145</td>\n",
       "      <td>0.184515</td>\n",
       "      <td>0.395058</td>\n",
       "      <td>...</td>\n",
       "      <td>0.0</td>\n",
       "      <td>0.0</td>\n",
       "      <td>0.0</td>\n",
       "      <td>0.0</td>\n",
       "      <td>0.0</td>\n",
       "      <td>0.0</td>\n",
       "      <td>0.0</td>\n",
       "      <td>0.0</td>\n",
       "      <td>0.0</td>\n",
       "      <td>0.0</td>\n",
       "    </tr>\n",
       "    <tr>\n",
       "      <th>3</th>\n",
       "      <td>1</td>\n",
       "      <td>58200.0</td>\n",
       "      <td>0.004854</td>\n",
       "      <td>0.433188</td>\n",
       "      <td>0.250801</td>\n",
       "      <td>0.242680</td>\n",
       "      <td>0.713586</td>\n",
       "      <td>0.210186</td>\n",
       "      <td>0.977472</td>\n",
       "      <td>0.375024</td>\n",
       "      <td>...</td>\n",
       "      <td>0.0</td>\n",
       "      <td>0.0</td>\n",
       "      <td>0.0</td>\n",
       "      <td>0.0</td>\n",
       "      <td>0.0</td>\n",
       "      <td>0.0</td>\n",
       "      <td>0.0</td>\n",
       "      <td>0.0</td>\n",
       "      <td>0.0</td>\n",
       "      <td>0.0</td>\n",
       "    </tr>\n",
       "    <tr>\n",
       "      <th>4</th>\n",
       "      <td>1</td>\n",
       "      <td>64000.0</td>\n",
       "      <td>0.835250</td>\n",
       "      <td>0.476812</td>\n",
       "      <td>0.764354</td>\n",
       "      <td>0.449753</td>\n",
       "      <td>0.524924</td>\n",
       "      <td>0.807181</td>\n",
       "      <td>0.294023</td>\n",
       "      <td>0.475043</td>\n",
       "      <td>...</td>\n",
       "      <td>0.0</td>\n",
       "      <td>0.0</td>\n",
       "      <td>0.0</td>\n",
       "      <td>0.0</td>\n",
       "      <td>0.0</td>\n",
       "      <td>0.0</td>\n",
       "      <td>0.0</td>\n",
       "      <td>0.0</td>\n",
       "      <td>0.0</td>\n",
       "      <td>0.0</td>\n",
       "    </tr>\n",
       "  </tbody>\n",
       "</table>\n",
       "<p>5 rows × 129 columns</p>\n",
       "</div>"
      ],
      "text/plain": [
       "   has_applied   salary        v1       v10       v11       v12       v13  \\\n",
       "0            1  51000.0  0.620573  0.018662  0.100803  0.080898  0.420417   \n",
       "1            1  70000.0  0.972502  0.870277  0.504887  0.995163  0.179480   \n",
       "2            1  59000.0  0.240756  0.546440  0.521399  0.402420  0.640444   \n",
       "3            1  58200.0  0.004854  0.433188  0.250801  0.242680  0.713586   \n",
       "4            1  64000.0  0.835250  0.476812  0.764354  0.449753  0.524924   \n",
       "\n",
       "        v14       v15       v16  ...  jobtitle_keyword_senior  \\\n",
       "0  0.817681  0.147355  0.446812  ...                      0.0   \n",
       "1  0.608719  0.245085  0.851246  ...                      0.0   \n",
       "2  0.400145  0.184515  0.395058  ...                      0.0   \n",
       "3  0.210186  0.977472  0.375024  ...                      0.0   \n",
       "4  0.807181  0.294023  0.475043  ...                      0.0   \n",
       "\n",
       "   jobtitle_keyword_seo  jobtitle_keyword_shop  jobtitle_keyword_software  \\\n",
       "0                   0.0                    0.0                        0.0   \n",
       "1                   0.0                    0.0                        0.0   \n",
       "2                   0.0                    0.0                        0.0   \n",
       "3                   0.0                    0.0                        0.0   \n",
       "4                   0.0                    0.0                        0.0   \n",
       "\n",
       "   jobtitle_keyword_supplier  jobtitle_keyword_sustainability  \\\n",
       "0                        0.0                              0.0   \n",
       "1                        0.0                              0.0   \n",
       "2                        0.0                              0.0   \n",
       "3                        0.0                              0.0   \n",
       "4                        0.0                              0.0   \n",
       "\n",
       "   jobtitle_keyword_transformation  jobtitle_keyword_ui  jobtitle_keyword_ux  \\\n",
       "0                              0.0                  0.0                  0.0   \n",
       "1                              0.0                  0.0                  0.0   \n",
       "2                              0.0                  0.0                  0.0   \n",
       "3                              0.0                  0.0                  0.0   \n",
       "4                              0.0                  0.0                  0.0   \n",
       "\n",
       "   jobtitle_keyword_ventures  \n",
       "0                        0.0  \n",
       "1                        0.0  \n",
       "2                        0.0  \n",
       "3                        0.0  \n",
       "4                        0.0  \n",
       "\n",
       "[5 rows x 129 columns]"
      ]
     },
     "execution_count": 46,
     "metadata": {},
     "output_type": "execute_result"
    }
   ],
   "source": [
    "data_preprocessor = DataPreprocessing(data_job_desc_path = \"data/job_desc.csv\",\n",
    "                                      data_user_path = \"data/user.csv\")\n",
    "train_data = data_preprocessor.handler()\n",
    "train_data.head()"
   ]
  },
  {
   "cell_type": "markdown",
   "metadata": {},
   "source": [
    "### Training Models: Classical ML Algos"
   ]
  },
  {
   "cell_type": "code",
   "execution_count": 47,
   "metadata": {},
   "outputs": [
    {
     "name": "stdout",
     "output_type": "stream",
     "text": [
      "Splitting Train/Test Data..\n",
      "Scaling Data..\n",
      "Training Model..\n",
      "Evaluating Model..\n",
      "{'accuracy': 53.6, 'precision': 61.111, 'recall': 53.472, 'f1': 57.037, 'auroc': 53.623}\n"
     ]
    }
   ],
   "source": [
    "lr_model_ini = LogisticRegression(class_weight = 'balanced', n_jobs = -1)\n",
    "lr_model, lr_scores = TrainingEvaluation(train_data, lr_model_ini).handler()\n",
    "print(lr_scores)"
   ]
  },
  {
   "cell_type": "code",
   "execution_count": 48,
   "metadata": {},
   "outputs": [
    {
     "name": "stdout",
     "output_type": "stream",
     "text": [
      "Splitting Train/Test Data..\n",
      "Scaling Data..\n",
      "Training Model..\n",
      "Evaluating Model..\n",
      "{'accuracy': 56.6, 'precision': 58.809, 'recall': 82.292, 'f1': 68.596, 'auroc': 51.995}\n"
     ]
    }
   ],
   "source": [
    "svm_model_ini = SVC(gamma='auto')\n",
    "svm_model, svm_scores = TrainingEvaluation(train_data, svm_model_ini).handler()\n",
    "print(svm_scores)"
   ]
  },
  {
   "cell_type": "code",
   "execution_count": 49,
   "metadata": {},
   "outputs": [
    {
     "name": "stdout",
     "output_type": "stream",
     "text": [
      "Splitting Train/Test Data..\n",
      "Scaling Data..\n",
      "Training Model..\n",
      "Evaluating Model..\n",
      "{'accuracy': 54.0, 'precision': 61.885, 'recall': 52.431, 'f1': 56.767, 'auroc': 54.281}\n"
     ]
    }
   ],
   "source": [
    "knn_model_ini = KNeighborsClassifier(n_neighbors=6)\n",
    "knn_model, knn_scores = TrainingEvaluation(train_data, knn_model_ini).handler()\n",
    "print(knn_scores)"
   ]
  },
  {
   "cell_type": "code",
   "execution_count": 50,
   "metadata": {},
   "outputs": [
    {
     "name": "stdout",
     "output_type": "stream",
     "text": [
      "Splitting Train/Test Data..\n",
      "Scaling Data..\n",
      "Training Model..\n",
      "Evaluating Model..\n",
      "{'accuracy': 56.4, 'precision': 65.909, 'recall': 50.347, 'f1': 57.087, 'auroc': 57.485}\n"
     ]
    }
   ],
   "source": [
    "gnb_model_ini = GaussianNB()\n",
    "gnb_model, gnb_scores = TrainingEvaluation(train_data, gnb_model_ini).handler()\n",
    "print(gnb_scores)"
   ]
  },
  {
   "cell_type": "markdown",
   "metadata": {},
   "source": [
    "### Training Models: Ensembling Approach"
   ]
  },
  {
   "cell_type": "code",
   "execution_count": 51,
   "metadata": {},
   "outputs": [
    {
     "name": "stdout",
     "output_type": "stream",
     "text": [
      "Splitting Train/Test Data..\n",
      "Scaling Data..\n",
      "Training Model..\n",
      "Evaluating Model..\n",
      "{'accuracy': 61.4, 'precision': 61.965, 'recall': 85.417, 'f1': 71.825, 'auroc': 57.095}\n"
     ]
    }
   ],
   "source": [
    "rf_model_ini = RandomForestClassifier(class_weight='balanced')\n",
    "rf_model, rf_scores = TrainingEvaluation(train_data, rf_model_ini).handler()\n",
    "print(rf_scores)"
   ]
  },
  {
   "cell_type": "code",
   "execution_count": 52,
   "metadata": {},
   "outputs": [
    {
     "name": "stdout",
     "output_type": "stream",
     "text": [
      "Splitting Train/Test Data..\n",
      "Scaling Data..\n",
      "Training Model..\n",
      "Fitting 3 folds for each of 30 candidates, totalling 90 fits\n"
     ]
    },
    {
     "name": "stderr",
     "output_type": "stream",
     "text": [
      "[Parallel(n_jobs=-1)]: Using backend LokyBackend with 8 concurrent workers.\n",
      "[Parallel(n_jobs=-1)]: Done  25 tasks      | elapsed:   41.5s\n",
      "[Parallel(n_jobs=-1)]: Done  90 out of  90 | elapsed:  2.6min finished\n"
     ]
    },
    {
     "name": "stdout",
     "output_type": "stream",
     "text": [
      "Evaluating Model..\n",
      "{'accuracy': 66.8, 'precision': 68.155, 'recall': 79.514, 'f1': 73.397, 'auroc': 64.521}\n"
     ]
    }
   ],
   "source": [
    "max_depth = [int(x) for x in np.linspace(10, 110, num = 11)]\n",
    "max_depth.append(None)\n",
    "random_grid = {'n_estimators': [int(x) for x in np.linspace(start = 200, stop = 2000, num = 10)],\n",
    "               'max_features': ['auto', 'sqrt'],\n",
    "               'max_depth': max_depth,\n",
    "               'min_samples_split': [2, 5, 10],\n",
    "               'min_samples_leaf': [1, 2, 4],\n",
    "               'bootstrap': [True, False]}\n",
    "\n",
    "rf_model_random_ini = RandomizedSearchCV(estimator = rf_model, \n",
    "                                     param_distributions = random_grid, \n",
    "                                     n_iter = 30, \n",
    "                                     cv = 3, \n",
    "                                     verbose=2,\n",
    "                                     random_state=42, \n",
    "                                     n_jobs = -1)\n",
    "\n",
    "rf_random_model, rf_random_scores = TrainingEvaluation(train_data, rf_model_random_ini).handler()\n",
    "print(rf_random_scores)"
   ]
  },
  {
   "cell_type": "code",
   "execution_count": 53,
   "metadata": {},
   "outputs": [
    {
     "name": "stdout",
     "output_type": "stream",
     "text": [
      "Splitting Train/Test Data..\n",
      "Scaling Data..\n",
      "Training Model..\n",
      "Evaluating Model..\n",
      "{'accuracy': 60.4, 'precision': 61.48, 'recall': 83.681, 'f1': 70.882, 'auroc': 56.227}\n"
     ]
    }
   ],
   "source": [
    "et_model_ini = ExtraTreesClassifier()\n",
    "et_model, et_scores = TrainingEvaluation(train_data, et_model_ini).handler()\n",
    "print(et_scores)"
   ]
  },
  {
   "cell_type": "code",
   "execution_count": 54,
   "metadata": {},
   "outputs": [
    {
     "name": "stdout",
     "output_type": "stream",
     "text": [
      "Splitting Train/Test Data..\n",
      "Scaling Data..\n",
      "Training Model..\n",
      "Evaluating Model..\n",
      "{'accuracy': 64.6, 'precision': 66.869, 'recall': 76.389, 'f1': 71.313, 'auroc': 62.487}\n"
     ]
    }
   ],
   "source": [
    "ab_model_ini = AdaBoostClassifier(n_estimators=70)\n",
    "ab_model, ab_scores = TrainingEvaluation(train_data, ab_model_ini).handler()\n",
    "print(ab_scores)"
   ]
  },
  {
   "cell_type": "markdown",
   "metadata": {},
   "source": [
    "### Training Models: Multi-layer Perceptron"
   ]
  },
  {
   "cell_type": "code",
   "execution_count": 55,
   "metadata": {},
   "outputs": [
    {
     "name": "stdout",
     "output_type": "stream",
     "text": [
      "Splitting Train/Test Data..\n",
      "Scaling Data..\n",
      "Training Model..\n",
      "Evaluating Model..\n",
      "{'accuracy': 51.8, 'precision': 57.705, 'recall': 61.111, 'f1': 59.359, 'auroc': 50.131}\n"
     ]
    }
   ],
   "source": [
    "mlp_model_ini = MLPClassifier(activation='relu')\n",
    "mlp_model, mlp_scores = TrainingEvaluation(train_data, mlp_model_ini).handler()\n",
    "print(mlp_scores)"
   ]
  },
  {
   "cell_type": "markdown",
   "metadata": {},
   "source": [
    "### Training Models: Light Gradient Bossting"
   ]
  },
  {
   "cell_type": "code",
   "execution_count": 56,
   "metadata": {},
   "outputs": [],
   "source": [
    "from sklearn.model_selection import train_test_split\n",
    "from sklearn.preprocessing import StandardScaler\n",
    "from src.util_evaluation_scores import get_scores\n",
    "\n",
    "pred_col = train_data.has_applied\n",
    "train_features = train_data.loc[:, train_data.columns != 'has_applied']\n",
    "X_train, X_test, Y_train, Y_test = train_test_split(train_features, pred_col, test_size=0.25, stratify=pred_col)\n",
    "\n",
    "scaler = StandardScaler()\n",
    "X_train_scaled = scaler.fit_transform(X_train)\n",
    "X_test_scaled = scaler.transform(X_test)"
   ]
  },
  {
   "cell_type": "code",
   "execution_count": 57,
   "metadata": {},
   "outputs": [
    {
     "name": "stdout",
     "output_type": "stream",
     "text": [
      "{'accuracy': 65.8, 'precision': 69.055, 'recall': 73.611, 'f1': 71.261, 'auroc': 64.4}\n"
     ]
    }
   ],
   "source": [
    "lgb_train_data = lgb.Dataset(X_train, label= Y_train)\n",
    "\n",
    "params = {}\n",
    "params['learning_rate']= 0.003\n",
    "params['boosting_type']='gbdt'\n",
    "params['objective']='binary'\n",
    "params['metric']='binary_logloss'\n",
    "params['sub_feature']=0.5\n",
    "params['num_leaves']= 10\n",
    "params['min_data']=50\n",
    "params['max_depth']=10\n",
    "\n",
    "lgb_model_ini = lgb.train(params, lgb_train_data, 10000)\n",
    "\n",
    "y_pred = lgb_model_ini.predict(X_test)\n",
    "\n",
    "for i in range(0,len(y_pred)):\n",
    "    y_pred[i] = 1 if y_pred[i] >= 0.5 else 0 \n",
    "\n",
    "lgb_scores = get_scores(y_pred, Y_test)\n",
    "print(lgb_scores)"
   ]
  },
  {
   "cell_type": "markdown",
   "metadata": {},
   "source": [
    "### Comparing Training Models"
   ]
  },
  {
   "cell_type": "code",
   "execution_count": 58,
   "metadata": {},
   "outputs": [],
   "source": [
    "model_names = ['Logistic Regression', \n",
    "               'Support Vector Machine', \n",
    "               'K-Nearest Neighbour', \n",
    "               'Naive Bayes', \n",
    "               'AdaBoost', \n",
    "               'LightGBM',\n",
    "               'Random Forest', \n",
    "               'Random Forest (Randomized HP)', \n",
    "               'Extra-tree Classifier',\n",
    "               'Multi-layer perceptron']"
   ]
  },
  {
   "cell_type": "code",
   "execution_count": 59,
   "metadata": {},
   "outputs": [],
   "source": [
    "model_auroc = [lr_scores['auroc'], svm_scores['auroc'], knn_scores['auroc'], gnb_scores['auroc'], ab_scores['auroc'],lgb_scores['auroc'], rf_scores['auroc'], rf_random_scores['auroc'], et_scores['auroc'], mlp_scores['auroc']]"
   ]
  },
  {
   "cell_type": "code",
   "execution_count": 60,
   "metadata": {},
   "outputs": [],
   "source": [
    "model_accuracy = [lr_scores['accuracy'], svm_scores['accuracy'], knn_scores['accuracy'], gnb_scores['accuracy'], ab_scores['accuracy'],lgb_scores['accuracy'], rf_scores['accuracy'], rf_random_scores['accuracy'], et_scores['accuracy'], mlp_scores['accuracy']]\n",
    "model_precision = [lr_scores['precision'], svm_scores['precision'], knn_scores['precision'], gnb_scores['precision'], ab_scores['precision'],lgb_scores['precision'], rf_scores['precision'], rf_random_scores['precision'], et_scores['precision'], mlp_scores['precision']]\n",
    "model_recall = [lr_scores['recall'], svm_scores['recall'], knn_scores['recall'], gnb_scores['recall'], ab_scores['recall'],lgb_scores['recall'], rf_scores['recall'], rf_random_scores['recall'], et_scores['recall'], mlp_scores['recall']]\n",
    "model_f1 = [lr_scores['f1'], svm_scores['f1'], knn_scores['f1'], gnb_scores['f1'], ab_scores['f1'],lgb_scores['f1'], rf_scores['f1'], rf_random_scores['f1'], et_scores['f1'], mlp_scores['f1']]"
   ]
  },
  {
   "cell_type": "code",
   "execution_count": 61,
   "metadata": {},
   "outputs": [
    {
     "data": {
      "text/html": [
       "<div>\n",
       "<style scoped>\n",
       "    .dataframe tbody tr th:only-of-type {\n",
       "        vertical-align: middle;\n",
       "    }\n",
       "\n",
       "    .dataframe tbody tr th {\n",
       "        vertical-align: top;\n",
       "    }\n",
       "\n",
       "    .dataframe thead th {\n",
       "        text-align: right;\n",
       "    }\n",
       "</style>\n",
       "<table border=\"1\" class=\"dataframe\">\n",
       "  <thead>\n",
       "    <tr style=\"text-align: right;\">\n",
       "      <th></th>\n",
       "      <th>auroc</th>\n",
       "      <th>accuracy</th>\n",
       "      <th>precision</th>\n",
       "      <th>recall</th>\n",
       "      <th>f1-score</th>\n",
       "    </tr>\n",
       "  </thead>\n",
       "  <tbody>\n",
       "    <tr>\n",
       "      <th>Random Forest (Randomized HP)</th>\n",
       "      <td>64.521</td>\n",
       "      <td>66.8</td>\n",
       "      <td>68.155</td>\n",
       "      <td>79.514</td>\n",
       "      <td>73.397</td>\n",
       "    </tr>\n",
       "    <tr>\n",
       "      <th>LightGBM</th>\n",
       "      <td>64.400</td>\n",
       "      <td>65.8</td>\n",
       "      <td>69.055</td>\n",
       "      <td>73.611</td>\n",
       "      <td>71.261</td>\n",
       "    </tr>\n",
       "    <tr>\n",
       "      <th>AdaBoost</th>\n",
       "      <td>62.487</td>\n",
       "      <td>64.6</td>\n",
       "      <td>66.869</td>\n",
       "      <td>76.389</td>\n",
       "      <td>71.313</td>\n",
       "    </tr>\n",
       "    <tr>\n",
       "      <th>Naive Bayes</th>\n",
       "      <td>57.485</td>\n",
       "      <td>56.4</td>\n",
       "      <td>65.909</td>\n",
       "      <td>50.347</td>\n",
       "      <td>57.087</td>\n",
       "    </tr>\n",
       "    <tr>\n",
       "      <th>Random Forest</th>\n",
       "      <td>57.095</td>\n",
       "      <td>61.4</td>\n",
       "      <td>61.965</td>\n",
       "      <td>85.417</td>\n",
       "      <td>71.825</td>\n",
       "    </tr>\n",
       "    <tr>\n",
       "      <th>Extra-tree Classifier</th>\n",
       "      <td>56.227</td>\n",
       "      <td>60.4</td>\n",
       "      <td>61.480</td>\n",
       "      <td>83.681</td>\n",
       "      <td>70.882</td>\n",
       "    </tr>\n",
       "    <tr>\n",
       "      <th>K-Nearest Neighbour</th>\n",
       "      <td>54.281</td>\n",
       "      <td>54.0</td>\n",
       "      <td>61.885</td>\n",
       "      <td>52.431</td>\n",
       "      <td>56.767</td>\n",
       "    </tr>\n",
       "    <tr>\n",
       "      <th>Logistic Regression</th>\n",
       "      <td>53.623</td>\n",
       "      <td>53.6</td>\n",
       "      <td>61.111</td>\n",
       "      <td>53.472</td>\n",
       "      <td>57.037</td>\n",
       "    </tr>\n",
       "    <tr>\n",
       "      <th>Support Vector Machine</th>\n",
       "      <td>51.995</td>\n",
       "      <td>56.6</td>\n",
       "      <td>58.809</td>\n",
       "      <td>82.292</td>\n",
       "      <td>68.596</td>\n",
       "    </tr>\n",
       "    <tr>\n",
       "      <th>Multi-layer perceptron</th>\n",
       "      <td>50.131</td>\n",
       "      <td>51.8</td>\n",
       "      <td>57.705</td>\n",
       "      <td>61.111</td>\n",
       "      <td>59.359</td>\n",
       "    </tr>\n",
       "  </tbody>\n",
       "</table>\n",
       "</div>"
      ],
      "text/plain": [
       "                                auroc  accuracy  precision  recall  f1-score\n",
       "Random Forest (Randomized HP)  64.521      66.8     68.155  79.514    73.397\n",
       "LightGBM                       64.400      65.8     69.055  73.611    71.261\n",
       "AdaBoost                       62.487      64.6     66.869  76.389    71.313\n",
       "Naive Bayes                    57.485      56.4     65.909  50.347    57.087\n",
       "Random Forest                  57.095      61.4     61.965  85.417    71.825\n",
       "Extra-tree Classifier          56.227      60.4     61.480  83.681    70.882\n",
       "K-Nearest Neighbour            54.281      54.0     61.885  52.431    56.767\n",
       "Logistic Regression            53.623      53.6     61.111  53.472    57.037\n",
       "Support Vector Machine         51.995      56.6     58.809  82.292    68.596\n",
       "Multi-layer perceptron         50.131      51.8     57.705  61.111    59.359"
      ]
     },
     "execution_count": 61,
     "metadata": {},
     "output_type": "execute_result"
    }
   ],
   "source": [
    "model_score_df = pd.DataFrame({'auroc': model_auroc,\n",
    "                               'accuracy': model_accuracy, \n",
    "                              'precision': model_precision,\n",
    "                              'recall': model_recall,\n",
    "                              'f1-score': model_f1},\n",
    "                              index=model_names).sort_values(by=['auroc'], ascending=False)\n",
    "model_score_df.head(10)"
   ]
  },
  {
   "cell_type": "code",
   "execution_count": 62,
   "metadata": {},
   "outputs": [
    {
     "data": {
      "image/png": "[encoded data removed]",
      "text/plain": [
       "<Figure size 432x288 with 1 Axes>"
      ]
     },
     "metadata": {
      "needs_background": "light"
     },
     "output_type": "display_data"
    }
   ],
   "source": [
    "ax = model_score_df.plot.bar()"
   ]
  },
  {
   "cell_type": "markdown",
   "metadata": {},
   "source": [
    "### Saving Winner Model"
   ]
  },
  {
   "cell_type": "code",
   "execution_count": 65,
   "metadata": {},
   "outputs": [],
   "source": [
    "pickle.dump(lgb_model, open('job_predict_model', 'wb'))"
   ]
  },
  {
   "cell_type": "markdown",
   "metadata": {},
   "source": [
    "### Camparing Feature Importance"
   ]
  },
  {
   "cell_type": "code",
   "execution_count": 66,
   "metadata": {},
   "outputs": [
    {
     "data": {
      "text/plain": [
       "Index(['salary', 'v1', 'v10', 'v11', 'v12', 'v13', 'v14', 'v15', 'v16', 'v17',\n",
       "       ...\n",
       "       'jobtitle_keyword_senior', 'jobtitle_keyword_seo',\n",
       "       'jobtitle_keyword_shop', 'jobtitle_keyword_software',\n",
       "       'jobtitle_keyword_supplier', 'jobtitle_keyword_sustainability',\n",
       "       'jobtitle_keyword_transformation', 'jobtitle_keyword_ui',\n",
       "       'jobtitle_keyword_ux', 'jobtitle_keyword_ventures'],\n",
       "      dtype='object', length=128)"
      ]
     },
     "execution_count": 66,
     "metadata": {},
     "output_type": "execute_result"
    }
   ],
   "source": [
    "train_features.columns"
   ]
  },
  {
   "cell_type": "code",
   "execution_count": 67,
   "metadata": {},
   "outputs": [],
   "source": [
    "importances = rf_model.feature_importances_"
   ]
  },
  {
   "cell_type": "code",
   "execution_count": 68,
   "metadata": {},
   "outputs": [],
   "source": [
    "feature_imp = {\n",
    "  \"salary\": 0,\n",
    "  \"user_features\": 0,\n",
    "  \"company\": 0,\n",
    "  \"job_title\": 0\n",
    "}\n",
    "\n",
    "for i in range(len(importances)):\n",
    "    if i == 0:\n",
    "        feature_imp['salary'] = importances[i]\n",
    "    if i>=1 and i<=56:\n",
    "        feature_imp['user_features'] = feature_imp['user_features'] + importances[i]\n",
    "    if i>=57 and i<=64:\n",
    "        feature_imp['company'] = feature_imp['company'] + importances[i]\n",
    "    if i>=65 and i<=127:\n",
    "        feature_imp['job_title'] = feature_imp['job_title'] + importances[i]"
   ]
  },
  {
   "cell_type": "code",
   "execution_count": 69,
   "metadata": {},
   "outputs": [
    {
     "data": {
      "text/html": [
       "<div>\n",
       "<style scoped>\n",
       "    .dataframe tbody tr th:only-of-type {\n",
       "        vertical-align: middle;\n",
       "    }\n",
       "\n",
       "    .dataframe tbody tr th {\n",
       "        vertical-align: top;\n",
       "    }\n",
       "\n",
       "    .dataframe thead th {\n",
       "        text-align: right;\n",
       "    }\n",
       "</style>\n",
       "<table border=\"1\" class=\"dataframe\">\n",
       "  <thead>\n",
       "    <tr style=\"text-align: right;\">\n",
       "      <th></th>\n",
       "      <th>features</th>\n",
       "      <th>importance</th>\n",
       "    </tr>\n",
       "  </thead>\n",
       "  <tbody>\n",
       "    <tr>\n",
       "      <th>0</th>\n",
       "      <td>user_features</td>\n",
       "      <td>89.450</td>\n",
       "    </tr>\n",
       "    <tr>\n",
       "      <th>1</th>\n",
       "      <td>job_title</td>\n",
       "      <td>6.462</td>\n",
       "    </tr>\n",
       "    <tr>\n",
       "      <th>2</th>\n",
       "      <td>salary</td>\n",
       "      <td>3.032</td>\n",
       "    </tr>\n",
       "    <tr>\n",
       "      <th>3</th>\n",
       "      <td>company</td>\n",
       "      <td>1.057</td>\n",
       "    </tr>\n",
       "  </tbody>\n",
       "</table>\n",
       "</div>"
      ],
      "text/plain": [
       "        features  importance\n",
       "0  user_features      89.450\n",
       "1      job_title       6.462\n",
       "2         salary       3.032\n",
       "3        company       1.057"
      ]
     },
     "execution_count": 69,
     "metadata": {},
     "output_type": "execute_result"
    }
   ],
   "source": [
    "feature_importance = sorted(feature_imp.items())\n",
    "feature_importance.sort(key = lambda x: x[1], reverse = True)  \n",
    "x, y = zip(* feature_importance)\n",
    "\n",
    "feature_importance_df = pd.DataFrame({'features': x, 'importance': y}) \n",
    "for i, row in feature_importance_df.iterrows():\n",
    "    rounded_value = round(feature_importance_df.at[i,'importance']*100,3)\n",
    "    feature_importance_df.at[i,'importance'] = rounded_value\n",
    "\n",
    "feature_importance_df.head()"
   ]
  }
 ],
 "metadata": {
  "kernelspec": {
   "display_name": "venv",
   "language": "python",
   "name": "venv"
  },
  "language_info": {
   "codemirror_mode": {
    "name": "ipython",
    "version": 3
   },
   "file_extension": ".py",
   "mimetype": "text/x-python",
   "name": "python",
   "nbconvert_exporter": "python",
   "pygments_lexer": "ipython3",
   "version": "3.7.4"
  }
 },
 "nbformat": 4,
 "nbformat_minor": 4
}
