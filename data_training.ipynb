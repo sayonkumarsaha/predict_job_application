{
 "cells": [
  {
   "cell_type": "code",
   "execution_count": 119,
   "metadata": {},
   "outputs": [],
   "source": [
    "from sklearn.impute import SimpleImputer, KNNImputer\n",
    "from sklearn.preprocessing import StandardScaler\n",
    "from sklearn.model_selection import train_test_split, RandomizedSearchCV\n",
    "from sklearn.linear_model import LogisticRegression\n",
    "from sklearn.svm import SVC\n",
    "from sklearn.neighbors import KNeighborsClassifier\n",
    "from sklearn.ensemble import RandomForestClassifier, AdaBoostClassifier, ExtraTreesClassifier\n",
    "from sklearn.naive_bayes import GaussianNB\n",
    "from sklearn.neural_network import MLPClassifier\n",
    "from sklearn.metrics import accuracy_score, precision_score, recall_score, f1_score, roc_auc_score\n",
    "from sklearn.preprocessing import MultiLabelBinarizer\n",
    "\n",
    "from sklearn.model_selection import train_test_split\n",
    "from sklearn.preprocessing import StandardScaler\n",
    "from src.util_evaluation_scores import get_scores\n",
    "\n",
    "import lightgbm as lgb\n",
    "import numpy as np\n",
    "import pandas as pd\n",
    "import pickle\n",
    "\n",
    "from src.preprocessing_data import DataPreprocessing\n",
    "from src.util_training_evaluation import TrainingEvaluation\n",
    "\n",
    "import warnings\n",
    "warnings.filterwarnings('ignore')"
   ]
  },
  {
   "cell_type": "markdown",
   "metadata": {},
   "source": [
    "### Pre-processing Training Data"
   ]
  },
  {
   "cell_type": "code",
   "execution_count": 4,
   "metadata": {},
   "outputs": [
    {
     "data": {
      "text/html": [
       "<div>\n",
       "<style scoped>\n",
       "    .dataframe tbody tr th:only-of-type {\n",
       "        vertical-align: middle;\n",
       "    }\n",
       "\n",
       "    .dataframe tbody tr th {\n",
       "        vertical-align: top;\n",
       "    }\n",
       "\n",
       "    .dataframe thead th {\n",
       "        text-align: right;\n",
       "    }\n",
       "</style>\n",
       "<table border=\"1\" class=\"dataframe\">\n",
       "  <thead>\n",
       "    <tr style=\"text-align: right;\">\n",
       "      <th></th>\n",
       "      <th>has_applied</th>\n",
       "      <th>salary</th>\n",
       "      <th>v1</th>\n",
       "      <th>v10</th>\n",
       "      <th>v11</th>\n",
       "      <th>v12</th>\n",
       "      <th>v13</th>\n",
       "      <th>v14</th>\n",
       "      <th>v15</th>\n",
       "      <th>v16</th>\n",
       "      <th>...</th>\n",
       "      <th>jobtitle_keyword_senior</th>\n",
       "      <th>jobtitle_keyword_seo</th>\n",
       "      <th>jobtitle_keyword_shop</th>\n",
       "      <th>jobtitle_keyword_software</th>\n",
       "      <th>jobtitle_keyword_supplier</th>\n",
       "      <th>jobtitle_keyword_sustainability</th>\n",
       "      <th>jobtitle_keyword_transformation</th>\n",
       "      <th>jobtitle_keyword_ui</th>\n",
       "      <th>jobtitle_keyword_ux</th>\n",
       "      <th>jobtitle_keyword_ventures</th>\n",
       "    </tr>\n",
       "  </thead>\n",
       "  <tbody>\n",
       "    <tr>\n",
       "      <th>0</th>\n",
       "      <td>1</td>\n",
       "      <td>51000.0</td>\n",
       "      <td>0.620573</td>\n",
       "      <td>0.018662</td>\n",
       "      <td>0.100803</td>\n",
       "      <td>0.080898</td>\n",
       "      <td>0.420417</td>\n",
       "      <td>0.817681</td>\n",
       "      <td>0.147355</td>\n",
       "      <td>0.446812</td>\n",
       "      <td>...</td>\n",
       "      <td>0.0</td>\n",
       "      <td>0.0</td>\n",
       "      <td>0.0</td>\n",
       "      <td>0.0</td>\n",
       "      <td>0.0</td>\n",
       "      <td>0.0</td>\n",
       "      <td>0.0</td>\n",
       "      <td>0.0</td>\n",
       "      <td>0.0</td>\n",
       "      <td>0.0</td>\n",
       "    </tr>\n",
       "    <tr>\n",
       "      <th>1</th>\n",
       "      <td>1</td>\n",
       "      <td>70000.0</td>\n",
       "      <td>0.972502</td>\n",
       "      <td>0.870277</td>\n",
       "      <td>0.504887</td>\n",
       "      <td>0.995163</td>\n",
       "      <td>0.179480</td>\n",
       "      <td>0.608719</td>\n",
       "      <td>0.245085</td>\n",
       "      <td>0.851246</td>\n",
       "      <td>...</td>\n",
       "      <td>0.0</td>\n",
       "      <td>0.0</td>\n",
       "      <td>0.0</td>\n",
       "      <td>0.0</td>\n",
       "      <td>0.0</td>\n",
       "      <td>0.0</td>\n",
       "      <td>0.0</td>\n",
       "      <td>0.0</td>\n",
       "      <td>0.0</td>\n",
       "      <td>0.0</td>\n",
       "    </tr>\n",
       "    <tr>\n",
       "      <th>2</th>\n",
       "      <td>1</td>\n",
       "      <td>59000.0</td>\n",
       "      <td>0.240756</td>\n",
       "      <td>0.546440</td>\n",
       "      <td>0.521399</td>\n",
       "      <td>0.402420</td>\n",
       "      <td>0.640444</td>\n",
       "      <td>0.400145</td>\n",
       "      <td>0.184515</td>\n",
       "      <td>0.395058</td>\n",
       "      <td>...</td>\n",
       "      <td>0.0</td>\n",
       "      <td>0.0</td>\n",
       "      <td>0.0</td>\n",
       "      <td>0.0</td>\n",
       "      <td>0.0</td>\n",
       "      <td>0.0</td>\n",
       "      <td>0.0</td>\n",
       "      <td>0.0</td>\n",
       "      <td>0.0</td>\n",
       "      <td>0.0</td>\n",
       "    </tr>\n",
       "    <tr>\n",
       "      <th>3</th>\n",
       "      <td>1</td>\n",
       "      <td>58200.0</td>\n",
       "      <td>0.004854</td>\n",
       "      <td>0.433188</td>\n",
       "      <td>0.250801</td>\n",
       "      <td>0.242680</td>\n",
       "      <td>0.713586</td>\n",
       "      <td>0.210186</td>\n",
       "      <td>0.977472</td>\n",
       "      <td>0.375024</td>\n",
       "      <td>...</td>\n",
       "      <td>0.0</td>\n",
       "      <td>0.0</td>\n",
       "      <td>0.0</td>\n",
       "      <td>0.0</td>\n",
       "      <td>0.0</td>\n",
       "      <td>0.0</td>\n",
       "      <td>0.0</td>\n",
       "      <td>0.0</td>\n",
       "      <td>0.0</td>\n",
       "      <td>0.0</td>\n",
       "    </tr>\n",
       "    <tr>\n",
       "      <th>4</th>\n",
       "      <td>1</td>\n",
       "      <td>64000.0</td>\n",
       "      <td>0.835250</td>\n",
       "      <td>0.476812</td>\n",
       "      <td>0.764354</td>\n",
       "      <td>0.449753</td>\n",
       "      <td>0.524924</td>\n",
       "      <td>0.807181</td>\n",
       "      <td>0.294023</td>\n",
       "      <td>0.475043</td>\n",
       "      <td>...</td>\n",
       "      <td>0.0</td>\n",
       "      <td>0.0</td>\n",
       "      <td>0.0</td>\n",
       "      <td>0.0</td>\n",
       "      <td>0.0</td>\n",
       "      <td>0.0</td>\n",
       "      <td>0.0</td>\n",
       "      <td>0.0</td>\n",
       "      <td>0.0</td>\n",
       "      <td>0.0</td>\n",
       "    </tr>\n",
       "  </tbody>\n",
       "</table>\n",
       "<p>5 rows × 129 columns</p>\n",
       "</div>"
      ],
      "text/plain": [
       "   has_applied   salary        v1       v10       v11       v12       v13  \\\n",
       "0            1  51000.0  0.620573  0.018662  0.100803  0.080898  0.420417   \n",
       "1            1  70000.0  0.972502  0.870277  0.504887  0.995163  0.179480   \n",
       "2            1  59000.0  0.240756  0.546440  0.521399  0.402420  0.640444   \n",
       "3            1  58200.0  0.004854  0.433188  0.250801  0.242680  0.713586   \n",
       "4            1  64000.0  0.835250  0.476812  0.764354  0.449753  0.524924   \n",
       "\n",
       "        v14       v15       v16  ...  jobtitle_keyword_senior  \\\n",
       "0  0.817681  0.147355  0.446812  ...                      0.0   \n",
       "1  0.608719  0.245085  0.851246  ...                      0.0   \n",
       "2  0.400145  0.184515  0.395058  ...                      0.0   \n",
       "3  0.210186  0.977472  0.375024  ...                      0.0   \n",
       "4  0.807181  0.294023  0.475043  ...                      0.0   \n",
       "\n",
       "   jobtitle_keyword_seo  jobtitle_keyword_shop  jobtitle_keyword_software  \\\n",
       "0                   0.0                    0.0                        0.0   \n",
       "1                   0.0                    0.0                        0.0   \n",
       "2                   0.0                    0.0                        0.0   \n",
       "3                   0.0                    0.0                        0.0   \n",
       "4                   0.0                    0.0                        0.0   \n",
       "\n",
       "   jobtitle_keyword_supplier  jobtitle_keyword_sustainability  \\\n",
       "0                        0.0                              0.0   \n",
       "1                        0.0                              0.0   \n",
       "2                        0.0                              0.0   \n",
       "3                        0.0                              0.0   \n",
       "4                        0.0                              0.0   \n",
       "\n",
       "   jobtitle_keyword_transformation  jobtitle_keyword_ui  jobtitle_keyword_ux  \\\n",
       "0                              0.0                  0.0                  0.0   \n",
       "1                              0.0                  0.0                  0.0   \n",
       "2                              0.0                  0.0                  0.0   \n",
       "3                              0.0                  0.0                  0.0   \n",
       "4                              0.0                  0.0                  0.0   \n",
       "\n",
       "   jobtitle_keyword_ventures  \n",
       "0                        0.0  \n",
       "1                        0.0  \n",
       "2                        0.0  \n",
       "3                        0.0  \n",
       "4                        0.0  \n",
       "\n",
       "[5 rows x 129 columns]"
      ]
     },
     "execution_count": 4,
     "metadata": {},
     "output_type": "execute_result"
    }
   ],
   "source": [
    "data_preprocessor = DataPreprocessing(data_job_desc_path = \"data/job_desc.csv\",\n",
    "                                      data_user_path = \"data/user.csv\")\n",
    "train_data = data_preprocessor.handler()\n",
    "train_data.head()"
   ]
  },
  {
   "cell_type": "markdown",
   "metadata": {},
   "source": [
    "### Training Models: Classical ML Algos"
   ]
  },
  {
   "cell_type": "code",
   "execution_count": 13,
   "metadata": {},
   "outputs": [
    {
     "name": "stdout",
     "output_type": "stream",
     "text": [
      "Splitting Train/Test Data..\n",
      "Scaling Data..\n",
      "Training Model..\n",
      "Evaluating Model..\n",
      "{'accuracy': 54.6, 'precision': 62.348, 'recall': 53.472, 'f1': 57.57, 'auroc': 54.802}\n"
     ]
    }
   ],
   "source": [
    "lr_model_ini = LogisticRegression(class_weight = 'balanced', n_jobs = -1)\n",
    "lr_model, lr_scores = TrainingEvaluation(train_data, lr_model_ini).handler()\n",
    "print(lr_scores)"
   ]
  },
  {
   "cell_type": "code",
   "execution_count": 32,
   "metadata": {},
   "outputs": [
    {
     "name": "stdout",
     "output_type": "stream",
     "text": [
      "Splitting Train/Test Data..\n",
      "Scaling Data..\n",
      "Training Model..\n",
      "Evaluating Model..\n",
      "{'accuracy': 55.8, 'precision': 63.786, 'recall': 53.819, 'f1': 58.38, 'auroc': 56.155}\n"
     ]
    }
   ],
   "source": [
    "svm_model_ini = SVC(class_weight = 'balanced', gamma='auto')\n",
    "svm_model, svm_scores = TrainingEvaluation(train_data, svm_model_ini).handler()\n",
    "print(svm_scores)"
   ]
  },
  {
   "cell_type": "code",
   "execution_count": 38,
   "metadata": {},
   "outputs": [
    {
     "name": "stdout",
     "output_type": "stream",
     "text": [
      "Splitting Train/Test Data..\n",
      "Scaling Data..\n",
      "Training Model..\n",
      "Evaluating Model..\n",
      "{'accuracy': 56.2, 'precision': 62.545, 'recall': 59.722, 'f1': 61.101, 'auroc': 55.569}\n"
     ]
    }
   ],
   "source": [
    "knn_model_ini = KNeighborsClassifier(n_neighbors=10, n_jobs = -1)\n",
    "knn_model, knn_scores = TrainingEvaluation(train_data, knn_model_ini).handler()\n",
    "print(knn_scores)"
   ]
  },
  {
   "cell_type": "code",
   "execution_count": 40,
   "metadata": {},
   "outputs": [
    {
     "name": "stdout",
     "output_type": "stream",
     "text": [
      "Splitting Train/Test Data..\n",
      "Scaling Data..\n",
      "Training Model..\n",
      "Evaluating Model..\n",
      "{'accuracy': 57.4, 'precision': 65.432, 'recall': 55.208, 'f1': 59.887, 'auroc': 57.793}\n"
     ]
    }
   ],
   "source": [
    "gnb_model_ini = GaussianNB()\n",
    "gnb_model, gnb_scores = TrainingEvaluation(train_data, gnb_model_ini).handler()\n",
    "print(gnb_scores)"
   ]
  },
  {
   "cell_type": "markdown",
   "metadata": {},
   "source": [
    "### Training Models: Ensembling Approach"
   ]
  },
  {
   "cell_type": "code",
   "execution_count": 47,
   "metadata": {},
   "outputs": [
    {
     "name": "stdout",
     "output_type": "stream",
     "text": [
      "Splitting Train/Test Data..\n",
      "Scaling Data..\n",
      "Training Model..\n",
      "Evaluating Model..\n",
      "{'accuracy': 64.8, 'precision': 63.592, 'recall': 90.972, 'f1': 74.857, 'auroc': 60.109}\n"
     ]
    }
   ],
   "source": [
    "rf_model_ini = RandomForestClassifier(class_weight='balanced', n_estimators = 200, n_jobs = -1)\n",
    "rf_model, rf_scores = TrainingEvaluation(train_data, rf_model_ini).handler()\n",
    "print(rf_scores)"
   ]
  },
  {
   "cell_type": "code",
   "execution_count": 48,
   "metadata": {},
   "outputs": [
    {
     "name": "stdout",
     "output_type": "stream",
     "text": [
      "Splitting Train/Test Data..\n",
      "Scaling Data..\n",
      "Training Model..\n",
      "Fitting 3 folds for each of 30 candidates, totalling 90 fits\n"
     ]
    },
    {
     "name": "stderr",
     "output_type": "stream",
     "text": [
      "[Parallel(n_jobs=-1)]: Using backend LokyBackend with 8 concurrent workers.\n",
      "[Parallel(n_jobs=-1)]: Done  25 tasks      | elapsed:   34.5s\n",
      "[Parallel(n_jobs=-1)]: Done  90 out of  90 | elapsed:  2.4min finished\n"
     ]
    },
    {
     "name": "stdout",
     "output_type": "stream",
     "text": [
      "Evaluating Model..\n",
      "{'accuracy': 66.4, 'precision': 67.751, 'recall': 79.514, 'f1': 73.163, 'auroc': 64.049}\n"
     ]
    }
   ],
   "source": [
    "max_depth = [int(x) for x in np.linspace(10, 110, num = 11)]\n",
    "max_depth.append(None)\n",
    "\n",
    "random_grid = {'n_estimators': [int(x) for x in np.linspace(start = 200, stop = 2000, num = 10)],\n",
    "               'max_features': ['auto', 'sqrt'],\n",
    "               'max_depth': max_depth,\n",
    "               'min_samples_split': [2, 5, 10],\n",
    "               'min_samples_leaf': [1, 2, 4],\n",
    "               'bootstrap': [True, False]}\n",
    "\n",
    "rf_model_random_ini = RandomizedSearchCV(estimator = rf_model, \n",
    "                                         param_distributions = random_grid, \n",
    "                                         n_iter = 30, \n",
    "                                         cv = 3, \n",
    "                                         verbose=2,\n",
    "                                         random_state=42, \n",
    "                                         n_jobs = -1)\n",
    "\n",
    "rf_random_model, rf_random_scores = TrainingEvaluation(train_data, rf_model_random_ini).handler()\n",
    "print(rf_random_scores)"
   ]
  },
  {
   "cell_type": "code",
   "execution_count": 66,
   "metadata": {},
   "outputs": [
    {
     "name": "stdout",
     "output_type": "stream",
     "text": [
      "Splitting Train/Test Data..\n",
      "Scaling Data..\n",
      "Training Model..\n",
      "Evaluating Model..\n",
      "{'accuracy': 61.2, 'precision': 62.5, 'recall': 81.597, 'f1': 70.783, 'auroc': 57.544}\n"
     ]
    }
   ],
   "source": [
    "et_model_ini = ExtraTreesClassifier(class_weight='balanced', n_estimators = 200, n_jobs = -1)\n",
    "et_model, et_scores = TrainingEvaluation(train_data, et_model_ini).handler()\n",
    "print(et_scores)"
   ]
  },
  {
   "cell_type": "code",
   "execution_count": 58,
   "metadata": {},
   "outputs": [
    {
     "name": "stdout",
     "output_type": "stream",
     "text": [
      "Splitting Train/Test Data..\n",
      "Scaling Data..\n",
      "Training Model..\n",
      "Evaluating Model..\n",
      "{'accuracy': 64.4, 'precision': 66.975, 'recall': 75.347, 'f1': 70.915, 'auroc': 62.438}\n"
     ]
    }
   ],
   "source": [
    "ab_model_ini = AdaBoostClassifier(n_estimators=100)\n",
    "ab_model, ab_scores = TrainingEvaluation(train_data, ab_model_ini).handler()\n",
    "print(ab_scores)"
   ]
  },
  {
   "cell_type": "markdown",
   "metadata": {},
   "source": [
    "### Training Models: Multi-layer Perceptron"
   ]
  },
  {
   "cell_type": "code",
   "execution_count": 78,
   "metadata": {},
   "outputs": [
    {
     "name": "stdout",
     "output_type": "stream",
     "text": [
      "Splitting Train/Test Data..\n",
      "Scaling Data..\n",
      "Training Model..\n",
      "Evaluating Model..\n",
      "{'accuracy': 57.2, 'precision': 61.859, 'recall': 67.014, 'f1': 64.333, 'auroc': 55.441}\n"
     ]
    }
   ],
   "source": [
    "mlp_model_ini = MLPClassifier(hidden_layer_sizes = 200, solver = 'adam', activation='relu', batch_size = 100)\n",
    "mlp_model, mlp_scores = TrainingEvaluation(train_data, mlp_model_ini).handler()\n",
    "print(mlp_scores)"
   ]
  },
  {
   "cell_type": "markdown",
   "metadata": {},
   "source": [
    "### Training Models: Light Gradient Boosting"
   ]
  },
  {
   "cell_type": "code",
   "execution_count": 141,
   "metadata": {},
   "outputs": [
    {
     "name": "stdout",
     "output_type": "stream",
     "text": [
      "{'accuracy': 72.4, 'precision': 74.671, 'recall': 78.819, 'f1': 76.689, 'auroc': 71.249}\n"
     ]
    }
   ],
   "source": [
    "pred_col = train_data.has_applied\n",
    "train_features = train_data.loc[:, train_data.columns != 'has_applied']\n",
    "X_train, X_test, Y_train, Y_test = train_test_split(train_features, pred_col, test_size=0.25, stratify=pred_col)\n",
    "\n",
    "scaler = StandardScaler()\n",
    "X_train_scaled = scaler.fit_transform(X_train)\n",
    "X_test_scaled = scaler.transform(X_test)\n",
    "\n",
    "lgb_train_data = lgb.Dataset(X_train, label= Y_train)\n",
    "params = {'boosting_type': 'gbdt', 'objective': 'binary', 'metric': 'binary_logloss', 'num_iterations': 400, 'n_jobs': -1}\n",
    "\n",
    "lgb_model = lgb.train(params, lgb_train_data)\n",
    "\n",
    "y_pred = lgb_model.predict(X_test)\n",
    "for i in range(0,len(y_pred)):\n",
    "    y_pred[i] = 1 if y_pred[i] >= 0.5 else 0 \n",
    "lgb_scores = get_scores(y_pred, Y_test)\n",
    "print(lgb_scores)"
   ]
  },
  {
   "cell_type": "markdown",
   "metadata": {},
   "source": [
    "### Comparing Training Models"
   ]
  },
  {
   "cell_type": "code",
   "execution_count": 142,
   "metadata": {},
   "outputs": [],
   "source": [
    "model_names = ['Logistic Regression', \n",
    "               'Support Vector Machine', \n",
    "               'K-Nearest Neighbour', \n",
    "               'Naive Bayes', \n",
    "               'AdaBoost', \n",
    "               'LightGBM',\n",
    "               'Random Forest', \n",
    "               'Random Forest (Randomized HP)', \n",
    "               'Extra-tree Classifier',\n",
    "               'Multi-layer perceptron']"
   ]
  },
  {
   "cell_type": "code",
   "execution_count": 143,
   "metadata": {},
   "outputs": [],
   "source": [
    "model_auroc = [lr_scores['auroc'], svm_scores['auroc'], knn_scores['auroc'], gnb_scores['auroc'], ab_scores['auroc'],lgb_scores['auroc'], rf_scores['auroc'], rf_random_scores['auroc'], et_scores['auroc'], mlp_scores['auroc']]\n",
    "model_accuracy = [lr_scores['accuracy'], svm_scores['accuracy'], knn_scores['accuracy'], gnb_scores['accuracy'], ab_scores['accuracy'],lgb_scores['accuracy'], rf_scores['accuracy'], rf_random_scores['accuracy'], et_scores['accuracy'], mlp_scores['accuracy']]\n",
    "model_precision = [lr_scores['precision'], svm_scores['precision'], knn_scores['precision'], gnb_scores['precision'], ab_scores['precision'],lgb_scores['precision'], rf_scores['precision'], rf_random_scores['precision'], et_scores['precision'], mlp_scores['precision']]\n",
    "model_recall = [lr_scores['recall'], svm_scores['recall'], knn_scores['recall'], gnb_scores['recall'], ab_scores['recall'],lgb_scores['recall'], rf_scores['recall'], rf_random_scores['recall'], et_scores['recall'], mlp_scores['recall']]\n",
    "model_f1 = [lr_scores['f1'], svm_scores['f1'], knn_scores['f1'], gnb_scores['f1'], ab_scores['f1'],lgb_scores['f1'], rf_scores['f1'], rf_random_scores['f1'], et_scores['f1'], mlp_scores['f1']]"
   ]
  },
  {
   "cell_type": "code",
   "execution_count": 144,
   "metadata": {},
   "outputs": [
    {
     "data": {
      "text/html": [
       "<div>\n",
       "<style scoped>\n",
       "    .dataframe tbody tr th:only-of-type {\n",
       "        vertical-align: middle;\n",
       "    }\n",
       "\n",
       "    .dataframe tbody tr th {\n",
       "        vertical-align: top;\n",
       "    }\n",
       "\n",
       "    .dataframe thead th {\n",
       "        text-align: right;\n",
       "    }\n",
       "</style>\n",
       "<table border=\"1\" class=\"dataframe\">\n",
       "  <thead>\n",
       "    <tr style=\"text-align: right;\">\n",
       "      <th></th>\n",
       "      <th>auroc</th>\n",
       "      <th>accuracy</th>\n",
       "      <th>precision</th>\n",
       "      <th>recall</th>\n",
       "      <th>f1-score</th>\n",
       "    </tr>\n",
       "  </thead>\n",
       "  <tbody>\n",
       "    <tr>\n",
       "      <th>LightGBM</th>\n",
       "      <td>71.249</td>\n",
       "      <td>72.4</td>\n",
       "      <td>74.671</td>\n",
       "      <td>78.819</td>\n",
       "      <td>76.689</td>\n",
       "    </tr>\n",
       "    <tr>\n",
       "      <th>Random Forest (Randomized HP)</th>\n",
       "      <td>64.049</td>\n",
       "      <td>66.4</td>\n",
       "      <td>67.751</td>\n",
       "      <td>79.514</td>\n",
       "      <td>73.163</td>\n",
       "    </tr>\n",
       "    <tr>\n",
       "      <th>AdaBoost</th>\n",
       "      <td>62.438</td>\n",
       "      <td>64.4</td>\n",
       "      <td>66.975</td>\n",
       "      <td>75.347</td>\n",
       "      <td>70.915</td>\n",
       "    </tr>\n",
       "    <tr>\n",
       "      <th>Random Forest</th>\n",
       "      <td>60.109</td>\n",
       "      <td>64.8</td>\n",
       "      <td>63.592</td>\n",
       "      <td>90.972</td>\n",
       "      <td>74.857</td>\n",
       "    </tr>\n",
       "    <tr>\n",
       "      <th>Naive Bayes</th>\n",
       "      <td>57.793</td>\n",
       "      <td>57.4</td>\n",
       "      <td>65.432</td>\n",
       "      <td>55.208</td>\n",
       "      <td>59.887</td>\n",
       "    </tr>\n",
       "    <tr>\n",
       "      <th>Extra-tree Classifier</th>\n",
       "      <td>57.544</td>\n",
       "      <td>61.2</td>\n",
       "      <td>62.500</td>\n",
       "      <td>81.597</td>\n",
       "      <td>70.783</td>\n",
       "    </tr>\n",
       "    <tr>\n",
       "      <th>Support Vector Machine</th>\n",
       "      <td>56.155</td>\n",
       "      <td>55.8</td>\n",
       "      <td>63.786</td>\n",
       "      <td>53.819</td>\n",
       "      <td>58.380</td>\n",
       "    </tr>\n",
       "    <tr>\n",
       "      <th>K-Nearest Neighbour</th>\n",
       "      <td>55.569</td>\n",
       "      <td>56.2</td>\n",
       "      <td>62.545</td>\n",
       "      <td>59.722</td>\n",
       "      <td>61.101</td>\n",
       "    </tr>\n",
       "    <tr>\n",
       "      <th>Multi-layer perceptron</th>\n",
       "      <td>55.441</td>\n",
       "      <td>57.2</td>\n",
       "      <td>61.859</td>\n",
       "      <td>67.014</td>\n",
       "      <td>64.333</td>\n",
       "    </tr>\n",
       "    <tr>\n",
       "      <th>Logistic Regression</th>\n",
       "      <td>54.802</td>\n",
       "      <td>54.6</td>\n",
       "      <td>62.348</td>\n",
       "      <td>53.472</td>\n",
       "      <td>57.570</td>\n",
       "    </tr>\n",
       "  </tbody>\n",
       "</table>\n",
       "</div>"
      ],
      "text/plain": [
       "                                auroc  accuracy  precision  recall  f1-score\n",
       "LightGBM                       71.249      72.4     74.671  78.819    76.689\n",
       "Random Forest (Randomized HP)  64.049      66.4     67.751  79.514    73.163\n",
       "AdaBoost                       62.438      64.4     66.975  75.347    70.915\n",
       "Random Forest                  60.109      64.8     63.592  90.972    74.857\n",
       "Naive Bayes                    57.793      57.4     65.432  55.208    59.887\n",
       "Extra-tree Classifier          57.544      61.2     62.500  81.597    70.783\n",
       "Support Vector Machine         56.155      55.8     63.786  53.819    58.380\n",
       "K-Nearest Neighbour            55.569      56.2     62.545  59.722    61.101\n",
       "Multi-layer perceptron         55.441      57.2     61.859  67.014    64.333\n",
       "Logistic Regression            54.802      54.6     62.348  53.472    57.570"
      ]
     },
     "execution_count": 144,
     "metadata": {},
     "output_type": "execute_result"
    }
   ],
   "source": [
    "model_score_df = pd.DataFrame({'auroc': model_auroc,\n",
    "                               'accuracy': model_accuracy, \n",
    "                              'precision': model_precision,\n",
    "                              'recall': model_recall,\n",
    "                              'f1-score': model_f1},\n",
    "                              index=model_names).sort_values(by=['auroc'], ascending=False)\n",
    "model_score_df.head(10)"
   ]
  },
  {
   "cell_type": "code",
   "execution_count": 145,
   "metadata": {},
   "outputs": [
    {
     "data": {
      "image/png": "[encoded data removed]",
      "text/plain": [
       "<Figure size 432x288 with 1 Axes>"
      ]
     },
     "metadata": {
      "needs_background": "light"
     },
     "output_type": "display_data"
    }
   ],
   "source": [
    "ax = model_score_df.plot.bar(legend=False)"
   ]
  },
  {
   "cell_type": "markdown",
   "metadata": {},
   "source": [
    "### Saving Winner Model"
   ]
  },
  {
   "cell_type": "code",
   "execution_count": 146,
   "metadata": {},
   "outputs": [],
   "source": [
    "pickle.dump(lgb_model, open('job_predict_model', 'wb'))"
   ]
  },
  {
   "cell_type": "markdown",
   "metadata": {},
   "source": [
    "### Camparing Feature Importance"
   ]
  },
  {
   "cell_type": "code",
   "execution_count": 147,
   "metadata": {},
   "outputs": [
    {
     "data": {
      "text/plain": [
       "Index(['salary', 'v1', 'v10', 'v11', 'v12', 'v13', 'v14', 'v15', 'v16', 'v17',\n",
       "       ...\n",
       "       'jobtitle_keyword_senior', 'jobtitle_keyword_seo',\n",
       "       'jobtitle_keyword_shop', 'jobtitle_keyword_software',\n",
       "       'jobtitle_keyword_supplier', 'jobtitle_keyword_sustainability',\n",
       "       'jobtitle_keyword_transformation', 'jobtitle_keyword_ui',\n",
       "       'jobtitle_keyword_ux', 'jobtitle_keyword_ventures'],\n",
       "      dtype='object', length=128)"
      ]
     },
     "execution_count": 147,
     "metadata": {},
     "output_type": "execute_result"
    }
   ],
   "source": [
    "train_features.columns"
   ]
  },
  {
   "cell_type": "code",
   "execution_count": 148,
   "metadata": {},
   "outputs": [],
   "source": [
    "importances = rf_model.feature_importances_\n",
    "\n",
    "feature_imp = {\n",
    "  \"salary\": 0,\n",
    "  \"user_features\": 0,\n",
    "  \"company\": 0,\n",
    "  \"job_title\": 0\n",
    "}\n",
    "\n",
    "for i in range(len(importances)):\n",
    "    if i == 0:\n",
    "        feature_imp['salary'] = importances[i]\n",
    "    if i>=1 and i<=56:\n",
    "        feature_imp['user_features'] = feature_imp['user_features'] + importances[i]\n",
    "    if i>=57 and i<=64:\n",
    "        feature_imp['company'] = feature_imp['company'] + importances[i]\n",
    "    if i>=65 and i<=127:\n",
    "        feature_imp['job_title'] = feature_imp['job_title'] + importances[i]"
   ]
  },
  {
   "cell_type": "code",
   "execution_count": 149,
   "metadata": {},
   "outputs": [
    {
     "data": {
      "text/html": [
       "<div>\n",
       "<style scoped>\n",
       "    .dataframe tbody tr th:only-of-type {\n",
       "        vertical-align: middle;\n",
       "    }\n",
       "\n",
       "    .dataframe tbody tr th {\n",
       "        vertical-align: top;\n",
       "    }\n",
       "\n",
       "    .dataframe thead th {\n",
       "        text-align: right;\n",
       "    }\n",
       "</style>\n",
       "<table border=\"1\" class=\"dataframe\">\n",
       "  <thead>\n",
       "    <tr style=\"text-align: right;\">\n",
       "      <th></th>\n",
       "      <th>features</th>\n",
       "      <th>importance</th>\n",
       "    </tr>\n",
       "  </thead>\n",
       "  <tbody>\n",
       "    <tr>\n",
       "      <th>0</th>\n",
       "      <td>user_features</td>\n",
       "      <td>89.715</td>\n",
       "    </tr>\n",
       "    <tr>\n",
       "      <th>1</th>\n",
       "      <td>job_title</td>\n",
       "      <td>6.261</td>\n",
       "    </tr>\n",
       "    <tr>\n",
       "      <th>2</th>\n",
       "      <td>salary</td>\n",
       "      <td>2.960</td>\n",
       "    </tr>\n",
       "    <tr>\n",
       "      <th>3</th>\n",
       "      <td>company</td>\n",
       "      <td>1.064</td>\n",
       "    </tr>\n",
       "  </tbody>\n",
       "</table>\n",
       "</div>"
      ],
      "text/plain": [
       "        features  importance\n",
       "0  user_features      89.715\n",
       "1      job_title       6.261\n",
       "2         salary       2.960\n",
       "3        company       1.064"
      ]
     },
     "execution_count": 149,
     "metadata": {},
     "output_type": "execute_result"
    }
   ],
   "source": [
    "feature_importance = sorted(feature_imp.items())\n",
    "feature_importance.sort(key = lambda x: x[1], reverse = True)  \n",
    "x, y = zip(* feature_importance)\n",
    "\n",
    "feature_importance_df = pd.DataFrame({'features': x, 'importance': y}) \n",
    "for i, row in feature_importance_df.iterrows():\n",
    "    rounded_value = round(feature_importance_df.at[i,'importance']*100,3)\n",
    "    feature_importance_df.at[i,'importance'] = rounded_value\n",
    "\n",
    "feature_importance_df.head()"
   ]
  }
 ],
 "metadata": {
  "kernelspec": {
   "display_name": "venv",
   "language": "python",
   "name": "venv"
  },
  "language_info": {
   "codemirror_mode": {
    "name": "ipython",
    "version": 3
   },
   "file_extension": ".py",
   "mimetype": "text/x-python",
   "name": "python",
   "nbconvert_exporter": "python",
   "pygments_lexer": "ipython3",
   "version": "3.7.4"
  }
 },
 "nbformat": 4,
 "nbformat_minor": 4
}
